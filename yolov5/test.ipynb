{
 "cells": [
  {
   "cell_type": "code",
   "execution_count": 1,
   "metadata": {},
   "outputs": [
    {
     "name": "stdout",
     "output_type": "stream",
     "text": [
      "c:\\Study\\CISM\\YOLO\\yolov5\n"
     ]
    }
   ],
   "source": [
    "# проверка предсказаний модели на локальном устройстве\n",
    "%cd yolov5"
   ]
  },
  {
   "cell_type": "code",
   "execution_count": 2,
   "metadata": {},
   "outputs": [],
   "source": [
    "import torch"
   ]
  },
  {
   "cell_type": "code",
   "execution_count": 5,
   "metadata": {},
   "outputs": [
    {
     "name": "stderr",
     "output_type": "stream",
     "text": [
      "\u001b[34m\u001b[1mdetect: \u001b[0mweights=['best.pt'], source=../bread-dog.jpg, data=data\\coco128.yaml, imgsz=[640, 640], conf_thres=0.25, iou_thres=0.45, max_det=1000, device=, view_img=False, save_txt=False, save_conf=False, save_crop=False, nosave=False, classes=None, agnostic_nms=False, augment=False, visualize=False, update=False, project=runs\\detect, name=exp, exist_ok=False, line_thickness=3, hide_labels=False, hide_conf=False, half=False, dnn=False\n",
      "YOLOv5  v6.1-223-g1dcb774 Python-3.9.12 torch-1.11.0 CUDA:0 (NVIDIA GeForce RTX 3060 Laptop GPU, 6144MiB)\n",
      "\n",
      "Fusing layers... \n",
      "Model summary: 444 layers, 86180143 parameters, 0 gradients, 204.0 GFLOPs\n",
      "image 1/1 C:\\Study\\CISM\\YOLO\\bread-dog.jpg: 416x640 1 dog, Done. (0.035s)\n",
      "Speed: 2.0ms pre-process, 35.4ms inference, 23.3ms NMS per image at shape (1, 3, 640, 640)\n",
      "Results saved to \u001b[1mruns\\detect\\exp2\u001b[0m\n"
     ]
    }
   ],
   "source": [
    "!python detect.py --weights best.pt --img 640 --conf 0.25 --source ../bread-dog.jpg"
   ]
  },
  {
   "cell_type": "code",
   "execution_count": 6,
   "metadata": {},
   "outputs": [
    {
     "name": "stderr",
     "output_type": "stream",
     "text": [
      "\u001b[34m\u001b[1mdetect: \u001b[0mweights=['best.pt'], source=../example.jpg, data=data\\coco128.yaml, imgsz=[640, 640], conf_thres=0.25, iou_thres=0.45, max_det=1000, device=, view_img=False, save_txt=False, save_conf=False, save_crop=False, nosave=False, classes=None, agnostic_nms=False, augment=False, visualize=False, update=False, project=runs\\detect, name=exp, exist_ok=False, line_thickness=3, hide_labels=False, hide_conf=False, half=False, dnn=False\n",
      "YOLOv5  v6.1-223-g1dcb774 Python-3.9.12 torch-1.11.0 CUDA:0 (NVIDIA GeForce RTX 3060 Laptop GPU, 6144MiB)\n",
      "\n",
      "Fusing layers... \n",
      "Model summary: 444 layers, 86180143 parameters, 0 gradients, 204.0 GFLOPs\n",
      "image 1/1 C:\\Study\\CISM\\YOLO\\example.jpg: 416x640 1 cat, Done. (0.037s)\n",
      "Speed: 0.0ms pre-process, 37.0ms inference, 4.5ms NMS per image at shape (1, 3, 640, 640)\n",
      "Results saved to \u001b[1mruns\\detect\\exp3\u001b[0m\n"
     ]
    }
   ],
   "source": [
    "!python detect.py --weights best.pt --img 640 --conf 0.25 --source ../example.jpg"
   ]
  },
  {
   "cell_type": "code",
   "execution_count": 7,
   "metadata": {},
   "outputs": [
    {
     "name": "stderr",
     "output_type": "stream",
     "text": [
      "\u001b[34m\u001b[1mdetect: \u001b[0mweights=['best.pt'], source=../acceptable.jpg, data=data\\coco128.yaml, imgsz=[640, 640], conf_thres=0.25, iou_thres=0.45, max_det=1000, device=, view_img=False, save_txt=False, save_conf=False, save_crop=False, nosave=False, classes=None, agnostic_nms=False, augment=False, visualize=False, update=False, project=runs\\detect, name=exp, exist_ok=False, line_thickness=3, hide_labels=False, hide_conf=False, half=False, dnn=False\n",
      "YOLOv5  v6.1-223-g1dcb774 Python-3.9.12 torch-1.11.0 CUDA:0 (NVIDIA GeForce RTX 3060 Laptop GPU, 6144MiB)\n",
      "\n",
      "Fusing layers... \n",
      "Model summary: 444 layers, 86180143 parameters, 0 gradients, 204.0 GFLOPs\n",
      "image 1/1 C:\\Study\\CISM\\YOLO\\acceptable.jpg: 640x640 1 cat, Done. (0.051s)\n",
      "Speed: 0.0ms pre-process, 50.6ms inference, 5.0ms NMS per image at shape (1, 3, 640, 640)\n",
      "Results saved to \u001b[1mruns\\detect\\exp4\u001b[0m\n"
     ]
    }
   ],
   "source": [
    "!python detect.py --weights best.pt --img 640 --conf 0.25 --source ../acceptable.jpg"
   ]
  },
  {
   "cell_type": "code",
   "execution_count": 8,
   "metadata": {},
   "outputs": [
    {
     "name": "stderr",
     "output_type": "stream",
     "text": [
      "\u001b[34m\u001b[1mdetect: \u001b[0mweights=['best.pt'], source=../tiger-imposter.jpg, data=data\\coco128.yaml, imgsz=[640, 640], conf_thres=0.25, iou_thres=0.45, max_det=1000, device=, view_img=False, save_txt=False, save_conf=False, save_crop=False, nosave=False, classes=None, agnostic_nms=False, augment=False, visualize=False, update=False, project=runs\\detect, name=exp, exist_ok=False, line_thickness=3, hide_labels=False, hide_conf=False, half=False, dnn=False\n",
      "YOLOv5  v6.1-223-g1dcb774 Python-3.9.12 torch-1.11.0 CUDA:0 (NVIDIA GeForce RTX 3060 Laptop GPU, 6144MiB)\n",
      "\n",
      "Fusing layers... \n",
      "Model summary: 444 layers, 86180143 parameters, 0 gradients, 204.0 GFLOPs\n",
      "image 1/1 C:\\Study\\CISM\\YOLO\\tiger-imposter.jpg: 640x480 1 dog, Done. (0.039s)\n",
      "Speed: 1.0ms pre-process, 39.0ms inference, 4.0ms NMS per image at shape (1, 3, 640, 640)\n",
      "Results saved to \u001b[1mruns\\detect\\exp5\u001b[0m\n"
     ]
    }
   ],
   "source": [
    "!python detect.py --weights best.pt --img 640 --conf 0.25 --source ../tiger-imposter.jpg"
   ]
  },
  {
   "cell_type": "code",
   "execution_count": 9,
   "metadata": {},
   "outputs": [
    {
     "name": "stderr",
     "output_type": "stream",
     "text": [
      "\u001b[34m\u001b[1mdetect: \u001b[0mweights=['best.pt'], source=../tiger-imposter2.jpg, data=data\\coco128.yaml, imgsz=[640, 640], conf_thres=0.25, iou_thres=0.45, max_det=1000, device=, view_img=False, save_txt=False, save_conf=False, save_crop=False, nosave=False, classes=None, agnostic_nms=False, augment=False, visualize=False, update=False, project=runs\\detect, name=exp, exist_ok=False, line_thickness=3, hide_labels=False, hide_conf=False, half=False, dnn=False\n",
      "YOLOv5  v6.1-223-g1dcb774 Python-3.9.12 torch-1.11.0 CUDA:0 (NVIDIA GeForce RTX 3060 Laptop GPU, 6144MiB)\n",
      "\n",
      "Fusing layers... \n",
      "Model summary: 444 layers, 86180143 parameters, 0 gradients, 204.0 GFLOPs\n",
      "image 1/1 C:\\Study\\CISM\\YOLO\\tiger-imposter2.jpg: 640x576 Done. (0.046s)\n",
      "Speed: 1.0ms pre-process, 46.4ms inference, 0.0ms NMS per image at shape (1, 3, 640, 640)\n",
      "Results saved to \u001b[1mruns\\detect\\exp6\u001b[0m\n"
     ]
    }
   ],
   "source": [
    "!python detect.py --weights best.pt --img 640 --conf 0.25 --source ../tiger-imposter2.jpg"
   ]
  },
  {
   "cell_type": "code",
   "execution_count": 10,
   "metadata": {},
   "outputs": [
    {
     "name": "stderr",
     "output_type": "stream",
     "text": [
      "\u001b[34m\u001b[1mdetect: \u001b[0mweights=['best.pt'], source=../many-cats.jpg, data=data\\coco128.yaml, imgsz=[640, 640], conf_thres=0.25, iou_thres=0.45, max_det=1000, device=, view_img=False, save_txt=False, save_conf=False, save_crop=False, nosave=False, classes=None, agnostic_nms=False, augment=False, visualize=False, update=False, project=runs\\detect, name=exp, exist_ok=False, line_thickness=3, hide_labels=False, hide_conf=False, half=False, dnn=False\n",
      "YOLOv5  v6.1-223-g1dcb774 Python-3.9.12 torch-1.11.0 CUDA:0 (NVIDIA GeForce RTX 3060 Laptop GPU, 6144MiB)\n",
      "\n",
      "Fusing layers... \n",
      "Model summary: 444 layers, 86180143 parameters, 0 gradients, 204.0 GFLOPs\n",
      "image 1/1 C:\\Study\\CISM\\YOLO\\many-cats.jpg: 448x640 7 cats, Done. (0.037s)\n",
      "Speed: 1.0ms pre-process, 37.0ms inference, 5.0ms NMS per image at shape (1, 3, 640, 640)\n",
      "Results saved to \u001b[1mruns\\detect\\exp7\u001b[0m\n"
     ]
    }
   ],
   "source": [
    "!python detect.py --weights best.pt --img 640 --conf 0.25 --source ../many-cats.jpg"
   ]
  },
  {
   "cell_type": "code",
   "execution_count": 11,
   "metadata": {},
   "outputs": [
    {
     "name": "stderr",
     "output_type": "stream",
     "text": [
      "\u001b[34m\u001b[1mdetect: \u001b[0mweights=['best.pt'], source=../many-dogs.jpg, data=data\\coco128.yaml, imgsz=[640, 640], conf_thres=0.25, iou_thres=0.45, max_det=1000, device=, view_img=False, save_txt=False, save_conf=False, save_crop=False, nosave=False, classes=None, agnostic_nms=False, augment=False, visualize=False, update=False, project=runs\\detect, name=exp, exist_ok=False, line_thickness=3, hide_labels=False, hide_conf=False, half=False, dnn=False\n",
      "YOLOv5  v6.1-223-g1dcb774 Python-3.9.12 torch-1.11.0 CUDA:0 (NVIDIA GeForce RTX 3060 Laptop GPU, 6144MiB)\n",
      "\n",
      "Fusing layers... \n",
      "Model summary: 444 layers, 86180143 parameters, 0 gradients, 204.0 GFLOPs\n",
      "image 1/1 C:\\Study\\CISM\\YOLO\\many-dogs.jpg: 448x640 11 dogs, Done. (0.037s)\n",
      "Speed: 1.0ms pre-process, 37.0ms inference, 4.0ms NMS per image at shape (1, 3, 640, 640)\n",
      "Results saved to \u001b[1mruns\\detect\\exp8\u001b[0m\n"
     ]
    }
   ],
   "source": [
    "!python detect.py --weights best.pt --img 640 --conf 0.25 --source ../many-dogs.jpg"
   ]
  },
  {
   "cell_type": "code",
   "execution_count": 12,
   "metadata": {},
   "outputs": [
    {
     "name": "stderr",
     "output_type": "stream",
     "text": [
      "\u001b[34m\u001b[1mdetect: \u001b[0mweights=['best.pt'], source=../watermelon-dog.jpg, data=data\\coco128.yaml, imgsz=[640, 640], conf_thres=0.25, iou_thres=0.45, max_det=1000, device=, view_img=False, save_txt=False, save_conf=False, save_crop=False, nosave=False, classes=None, agnostic_nms=False, augment=False, visualize=False, update=False, project=runs\\detect, name=exp, exist_ok=False, line_thickness=3, hide_labels=False, hide_conf=False, half=False, dnn=False\n",
      "YOLOv5  v6.1-223-g1dcb774 Python-3.9.12 torch-1.11.0 CUDA:0 (NVIDIA GeForce RTX 3060 Laptop GPU, 6144MiB)\n",
      "\n",
      "Fusing layers... \n",
      "Model summary: 444 layers, 86180143 parameters, 0 gradients, 204.0 GFLOPs\n",
      "image 1/1 C:\\Study\\CISM\\YOLO\\watermelon-dog.jpg: 640x384 1 dog, Done. (0.033s)\n",
      "Speed: 1.0ms pre-process, 33.2ms inference, 4.3ms NMS per image at shape (1, 3, 640, 640)\n",
      "Results saved to \u001b[1mruns\\detect\\exp9\u001b[0m\n"
     ]
    }
   ],
   "source": [
    "!python detect.py --weights best.pt --img 640 --conf 0.25 --source ../watermelon-dog.jpg"
   ]
  },
  {
   "cell_type": "code",
   "execution_count": 13,
   "metadata": {},
   "outputs": [
    {
     "name": "stderr",
     "output_type": "stream",
     "text": [
      "\u001b[34m\u001b[1mdetect: \u001b[0mweights=['best.pt'], source=../wierd-cat.jpg, data=data\\coco128.yaml, imgsz=[640, 640], conf_thres=0.25, iou_thres=0.45, max_det=1000, device=, view_img=False, save_txt=False, save_conf=False, save_crop=False, nosave=False, classes=None, agnostic_nms=False, augment=False, visualize=False, update=False, project=runs\\detect, name=exp, exist_ok=False, line_thickness=3, hide_labels=False, hide_conf=False, half=False, dnn=False\n",
      "YOLOv5  v6.1-223-g1dcb774 Python-3.9.12 torch-1.11.0 CUDA:0 (NVIDIA GeForce RTX 3060 Laptop GPU, 6144MiB)\n",
      "\n",
      "Fusing layers... \n",
      "Model summary: 444 layers, 86180143 parameters, 0 gradients, 204.0 GFLOPs\n",
      "image 1/1 C:\\Study\\CISM\\YOLO\\wierd-cat.jpg: 640x640 1 cat, Done. (0.049s)\n",
      "Speed: 1.0ms pre-process, 49.3ms inference, 6.0ms NMS per image at shape (1, 3, 640, 640)\n",
      "Results saved to \u001b[1mruns\\detect\\exp10\u001b[0m\n"
     ]
    }
   ],
   "source": [
    "!python detect.py --weights best.pt --img 640 --conf 0.25 --source ../wierd-cat.jpg"
   ]
  },
  {
   "cell_type": "code",
   "execution_count": 14,
   "metadata": {},
   "outputs": [
    {
     "name": "stderr",
     "output_type": "stream",
     "text": [
      "\u001b[34m\u001b[1mdetect: \u001b[0mweights=['best.pt'], source=../dianka.jpg, data=data\\coco128.yaml, imgsz=[640, 640], conf_thres=0.25, iou_thres=0.45, max_det=1000, device=, view_img=False, save_txt=False, save_conf=False, save_crop=False, nosave=False, classes=None, agnostic_nms=False, augment=False, visualize=False, update=False, project=runs\\detect, name=exp, exist_ok=False, line_thickness=3, hide_labels=False, hide_conf=False, half=False, dnn=False\n",
      "YOLOv5  v6.1-223-g1dcb774 Python-3.9.12 torch-1.11.0 CUDA:0 (NVIDIA GeForce RTX 3060 Laptop GPU, 6144MiB)\n",
      "\n",
      "Fusing layers... \n",
      "Model summary: 444 layers, 86180143 parameters, 0 gradients, 204.0 GFLOPs\n",
      "image 1/1 C:\\Study\\CISM\\YOLO\\dianka.jpg: 640x384 Done. (0.031s)\n",
      "Speed: 1.0ms pre-process, 31.0ms inference, 0.0ms NMS per image at shape (1, 3, 640, 640)\n",
      "Results saved to \u001b[1mruns\\detect\\exp11\u001b[0m\n"
     ]
    }
   ],
   "source": [
    "!python detect.py --weights best.pt --img 640 --conf 0.25 --source ../dianka.jpg"
   ]
  },
  {
   "cell_type": "code",
   "execution_count": 15,
   "metadata": {},
   "outputs": [
    {
     "name": "stderr",
     "output_type": "stream",
     "text": [
      "\u001b[34m\u001b[1mdetect: \u001b[0mweights=['best.pt'], source=../video.mp4, data=data\\coco128.yaml, imgsz=[640, 640], conf_thres=0.25, iou_thres=0.45, max_det=1000, device=, view_img=False, save_txt=False, save_conf=False, save_crop=False, nosave=False, classes=None, agnostic_nms=False, augment=False, visualize=False, update=False, project=runs\\detect, name=exp, exist_ok=False, line_thickness=3, hide_labels=False, hide_conf=False, half=False, dnn=False\n",
      "YOLOv5  v6.1-223-g1dcb774 Python-3.9.12 torch-1.11.0 CUDA:0 (NVIDIA GeForce RTX 3060 Laptop GPU, 6144MiB)\n",
      "\n",
      "Fusing layers... \n",
      "Model summary: 444 layers, 86180143 parameters, 0 gradients, 204.0 GFLOPs\n",
      "video 1/1 (1/324) C:\\Study\\CISM\\YOLO\\video.mp4: 384x640 Done. (0.030s)\n",
      "video 1/1 (2/324) C:\\Study\\CISM\\YOLO\\video.mp4: 384x640 Done. (0.028s)\n",
      "video 1/1 (3/324) C:\\Study\\CISM\\YOLO\\video.mp4: 384x640 Done. (0.028s)\n",
      "video 1/1 (4/324) C:\\Study\\CISM\\YOLO\\video.mp4: 384x640 Done. (0.028s)\n",
      "video 1/1 (5/324) C:\\Study\\CISM\\YOLO\\video.mp4: 384x640 Done. (0.028s)\n",
      "video 1/1 (6/324) C:\\Study\\CISM\\YOLO\\video.mp4: 384x640 Done. (0.027s)\n",
      "video 1/1 (7/324) C:\\Study\\CISM\\YOLO\\video.mp4: 384x640 Done. (0.028s)\n",
      "video 1/1 (8/324) C:\\Study\\CISM\\YOLO\\video.mp4: 384x640 Done. (0.027s)\n",
      "video 1/1 (9/324) C:\\Study\\CISM\\YOLO\\video.mp4: 384x640 Done. (0.025s)\n",
      "video 1/1 (10/324) C:\\Study\\CISM\\YOLO\\video.mp4: 384x640 Done. (0.026s)\n",
      "video 1/1 (11/324) C:\\Study\\CISM\\YOLO\\video.mp4: 384x640 Done. (0.025s)\n",
      "video 1/1 (12/324) C:\\Study\\CISM\\YOLO\\video.mp4: 384x640 Done. (0.025s)\n",
      "video 1/1 (13/324) C:\\Study\\CISM\\YOLO\\video.mp4: 384x640 Done. (0.025s)\n",
      "video 1/1 (14/324) C:\\Study\\CISM\\YOLO\\video.mp4: 384x640 Done. (0.025s)\n",
      "video 1/1 (15/324) C:\\Study\\CISM\\YOLO\\video.mp4: 384x640 Done. (0.025s)\n",
      "video 1/1 (16/324) C:\\Study\\CISM\\YOLO\\video.mp4: 384x640 Done. (0.025s)\n",
      "video 1/1 (17/324) C:\\Study\\CISM\\YOLO\\video.mp4: 384x640 Done. (0.026s)\n",
      "video 1/1 (18/324) C:\\Study\\CISM\\YOLO\\video.mp4: 384x640 Done. (0.025s)\n",
      "video 1/1 (19/324) C:\\Study\\CISM\\YOLO\\video.mp4: 384x640 Done. (0.025s)\n",
      "video 1/1 (20/324) C:\\Study\\CISM\\YOLO\\video.mp4: 384x640 Done. (0.025s)\n",
      "video 1/1 (21/324) C:\\Study\\CISM\\YOLO\\video.mp4: 384x640 Done. (0.025s)\n",
      "video 1/1 (22/324) C:\\Study\\CISM\\YOLO\\video.mp4: 384x640 Done. (0.025s)\n",
      "video 1/1 (23/324) C:\\Study\\CISM\\YOLO\\video.mp4: 384x640 Done. (0.026s)\n",
      "video 1/1 (24/324) C:\\Study\\CISM\\YOLO\\video.mp4: 384x640 Done. (0.026s)\n",
      "video 1/1 (25/324) C:\\Study\\CISM\\YOLO\\video.mp4: 384x640 Done. (0.025s)\n",
      "video 1/1 (26/324) C:\\Study\\CISM\\YOLO\\video.mp4: 384x640 Done. (0.026s)\n",
      "video 1/1 (27/324) C:\\Study\\CISM\\YOLO\\video.mp4: 384x640 Done. (0.026s)\n",
      "video 1/1 (28/324) C:\\Study\\CISM\\YOLO\\video.mp4: 384x640 Done. (0.026s)\n",
      "video 1/1 (29/324) C:\\Study\\CISM\\YOLO\\video.mp4: 384x640 Done. (0.026s)\n",
      "video 1/1 (30/324) C:\\Study\\CISM\\YOLO\\video.mp4: 384x640 Done. (0.026s)\n",
      "video 1/1 (31/324) C:\\Study\\CISM\\YOLO\\video.mp4: 384x640 Done. (0.025s)\n",
      "video 1/1 (32/324) C:\\Study\\CISM\\YOLO\\video.mp4: 384x640 Done. (0.026s)\n",
      "video 1/1 (33/324) C:\\Study\\CISM\\YOLO\\video.mp4: 384x640 Done. (0.025s)\n",
      "video 1/1 (34/324) C:\\Study\\CISM\\YOLO\\video.mp4: 384x640 Done. (0.025s)\n",
      "video 1/1 (35/324) C:\\Study\\CISM\\YOLO\\video.mp4: 384x640 Done. (0.025s)\n",
      "video 1/1 (36/324) C:\\Study\\CISM\\YOLO\\video.mp4: 384x640 Done. (0.025s)\n",
      "video 1/1 (37/324) C:\\Study\\CISM\\YOLO\\video.mp4: 384x640 Done. (0.026s)\n",
      "video 1/1 (38/324) C:\\Study\\CISM\\YOLO\\video.mp4: 384x640 Done. (0.026s)\n",
      "video 1/1 (39/324) C:\\Study\\CISM\\YOLO\\video.mp4: 384x640 Done. (0.025s)\n",
      "video 1/1 (40/324) C:\\Study\\CISM\\YOLO\\video.mp4: 384x640 Done. (0.026s)\n",
      "video 1/1 (41/324) C:\\Study\\CISM\\YOLO\\video.mp4: 384x640 Done. (0.025s)\n",
      "video 1/1 (42/324) C:\\Study\\CISM\\YOLO\\video.mp4: 384x640 Done. (0.026s)\n",
      "video 1/1 (43/324) C:\\Study\\CISM\\YOLO\\video.mp4: 384x640 Done. (0.026s)\n",
      "video 1/1 (44/324) C:\\Study\\CISM\\YOLO\\video.mp4: 384x640 Done. (0.025s)\n",
      "video 1/1 (45/324) C:\\Study\\CISM\\YOLO\\video.mp4: 384x640 Done. (0.026s)\n",
      "video 1/1 (46/324) C:\\Study\\CISM\\YOLO\\video.mp4: 384x640 Done. (0.025s)\n",
      "video 1/1 (47/324) C:\\Study\\CISM\\YOLO\\video.mp4: 384x640 Done. (0.025s)\n",
      "video 1/1 (48/324) C:\\Study\\CISM\\YOLO\\video.mp4: 384x640 Done. (0.025s)\n",
      "video 1/1 (49/324) C:\\Study\\CISM\\YOLO\\video.mp4: 384x640 Done. (0.025s)\n",
      "video 1/1 (50/324) C:\\Study\\CISM\\YOLO\\video.mp4: 384x640 Done. (0.026s)\n",
      "video 1/1 (51/324) C:\\Study\\CISM\\YOLO\\video.mp4: 384x640 Done. (0.026s)\n",
      "video 1/1 (52/324) C:\\Study\\CISM\\YOLO\\video.mp4: 384x640 Done. (0.025s)\n",
      "video 1/1 (53/324) C:\\Study\\CISM\\YOLO\\video.mp4: 384x640 Done. (0.026s)\n",
      "video 1/1 (54/324) C:\\Study\\CISM\\YOLO\\video.mp4: 384x640 Done. (0.025s)\n",
      "video 1/1 (55/324) C:\\Study\\CISM\\YOLO\\video.mp4: 384x640 Done. (0.025s)\n",
      "video 1/1 (56/324) C:\\Study\\CISM\\YOLO\\video.mp4: 384x640 Done. (0.025s)\n",
      "video 1/1 (57/324) C:\\Study\\CISM\\YOLO\\video.mp4: 384x640 Done. (0.025s)\n",
      "video 1/1 (58/324) C:\\Study\\CISM\\YOLO\\video.mp4: 384x640 Done. (0.026s)\n",
      "video 1/1 (59/324) C:\\Study\\CISM\\YOLO\\video.mp4: 384x640 Done. (0.025s)\n",
      "video 1/1 (60/324) C:\\Study\\CISM\\YOLO\\video.mp4: 384x640 Done. (0.025s)\n",
      "video 1/1 (61/324) C:\\Study\\CISM\\YOLO\\video.mp4: 384x640 Done. (0.025s)\n",
      "video 1/1 (62/324) C:\\Study\\CISM\\YOLO\\video.mp4: 384x640 Done. (0.026s)\n",
      "video 1/1 (63/324) C:\\Study\\CISM\\YOLO\\video.mp4: 384x640 Done. (0.025s)\n",
      "video 1/1 (64/324) C:\\Study\\CISM\\YOLO\\video.mp4: 384x640 Done. (0.025s)\n",
      "video 1/1 (65/324) C:\\Study\\CISM\\YOLO\\video.mp4: 384x640 Done. (0.026s)\n",
      "video 1/1 (66/324) C:\\Study\\CISM\\YOLO\\video.mp4: 384x640 Done. (0.025s)\n",
      "video 1/1 (67/324) C:\\Study\\CISM\\YOLO\\video.mp4: 384x640 Done. (0.025s)\n",
      "video 1/1 (68/324) C:\\Study\\CISM\\YOLO\\video.mp4: 384x640 Done. (0.025s)\n",
      "video 1/1 (69/324) C:\\Study\\CISM\\YOLO\\video.mp4: 384x640 Done. (0.024s)\n",
      "video 1/1 (70/324) C:\\Study\\CISM\\YOLO\\video.mp4: 384x640 Done. (0.029s)\n",
      "video 1/1 (71/324) C:\\Study\\CISM\\YOLO\\video.mp4: 384x640 Done. (0.025s)\n",
      "video 1/1 (72/324) C:\\Study\\CISM\\YOLO\\video.mp4: 384x640 Done. (0.026s)\n",
      "video 1/1 (73/324) C:\\Study\\CISM\\YOLO\\video.mp4: 384x640 Done. (0.025s)\n",
      "video 1/1 (74/324) C:\\Study\\CISM\\YOLO\\video.mp4: 384x640 Done. (0.025s)\n",
      "video 1/1 (75/324) C:\\Study\\CISM\\YOLO\\video.mp4: 384x640 Done. (0.026s)\n",
      "video 1/1 (76/324) C:\\Study\\CISM\\YOLO\\video.mp4: 384x640 Done. (0.026s)\n",
      "video 1/1 (77/324) C:\\Study\\CISM\\YOLO\\video.mp4: 384x640 Done. (0.028s)\n",
      "video 1/1 (78/324) C:\\Study\\CISM\\YOLO\\video.mp4: 384x640 Done. (0.026s)\n",
      "video 1/1 (79/324) C:\\Study\\CISM\\YOLO\\video.mp4: 384x640 Done. (0.020s)\n",
      "video 1/1 (80/324) C:\\Study\\CISM\\YOLO\\video.mp4: 384x640 Done. (0.025s)\n",
      "video 1/1 (81/324) C:\\Study\\CISM\\YOLO\\video.mp4: 384x640 Done. (0.025s)\n",
      "video 1/1 (82/324) C:\\Study\\CISM\\YOLO\\video.mp4: 384x640 Done. (0.024s)\n",
      "video 1/1 (83/324) C:\\Study\\CISM\\YOLO\\video.mp4: 384x640 Done. (0.026s)\n",
      "video 1/1 (84/324) C:\\Study\\CISM\\YOLO\\video.mp4: 384x640 Done. (0.025s)\n",
      "video 1/1 (85/324) C:\\Study\\CISM\\YOLO\\video.mp4: 384x640 Done. (0.024s)\n",
      "video 1/1 (86/324) C:\\Study\\CISM\\YOLO\\video.mp4: 384x640 1 dog, Done. (0.025s)\n",
      "video 1/1 (87/324) C:\\Study\\CISM\\YOLO\\video.mp4: 384x640 1 dog, Done. (0.026s)\n",
      "video 1/1 (88/324) C:\\Study\\CISM\\YOLO\\video.mp4: 384x640 1 cat, Done. (0.025s)\n",
      "video 1/1 (89/324) C:\\Study\\CISM\\YOLO\\video.mp4: 384x640 1 cat, 1 dog, Done. (0.026s)\n",
      "video 1/1 (90/324) C:\\Study\\CISM\\YOLO\\video.mp4: 384x640 1 dog, Done. (0.022s)\n",
      "video 1/1 (91/324) C:\\Study\\CISM\\YOLO\\video.mp4: 384x640 1 cat, 1 dog, Done. (0.025s)\n",
      "video 1/1 (92/324) C:\\Study\\CISM\\YOLO\\video.mp4: 384x640 1 dog, Done. (0.022s)\n",
      "video 1/1 (93/324) C:\\Study\\CISM\\YOLO\\video.mp4: 384x640 1 cat, Done. (0.025s)\n",
      "video 1/1 (94/324) C:\\Study\\CISM\\YOLO\\video.mp4: 384x640 1 cat, Done. (0.025s)\n",
      "video 1/1 (95/324) C:\\Study\\CISM\\YOLO\\video.mp4: 384x640 1 cat, Done. (0.025s)\n",
      "video 1/1 (96/324) C:\\Study\\CISM\\YOLO\\video.mp4: 384x640 1 cat, Done. (0.026s)\n",
      "video 1/1 (97/324) C:\\Study\\CISM\\YOLO\\video.mp4: 384x640 1 cat, Done. (0.025s)\n",
      "video 1/1 (98/324) C:\\Study\\CISM\\YOLO\\video.mp4: 384x640 1 cat, Done. (0.020s)\n",
      "video 1/1 (99/324) C:\\Study\\CISM\\YOLO\\video.mp4: 384x640 1 cat, Done. (0.025s)\n",
      "video 1/1 (100/324) C:\\Study\\CISM\\YOLO\\video.mp4: 384x640 1 cat, Done. (0.025s)\n",
      "video 1/1 (101/324) C:\\Study\\CISM\\YOLO\\video.mp4: 384x640 1 cat, Done. (0.025s)\n",
      "video 1/1 (102/324) C:\\Study\\CISM\\YOLO\\video.mp4: 384x640 1 cat, Done. (0.025s)\n",
      "video 1/1 (103/324) C:\\Study\\CISM\\YOLO\\video.mp4: 384x640 1 cat, 1 dog, Done. (0.026s)\n",
      "video 1/1 (104/324) C:\\Study\\CISM\\YOLO\\video.mp4: 384x640 1 dog, Done. (0.025s)\n",
      "video 1/1 (105/324) C:\\Study\\CISM\\YOLO\\video.mp4: 384x640 1 dog, Done. (0.026s)\n",
      "video 1/1 (106/324) C:\\Study\\CISM\\YOLO\\video.mp4: 384x640 1 dog, Done. (0.025s)\n",
      "video 1/1 (107/324) C:\\Study\\CISM\\YOLO\\video.mp4: 384x640 Done. (0.026s)\n",
      "video 1/1 (108/324) C:\\Study\\CISM\\YOLO\\video.mp4: 384x640 Done. (0.025s)\n",
      "video 1/1 (109/324) C:\\Study\\CISM\\YOLO\\video.mp4: 384x640 1 dog, Done. (0.026s)\n",
      "video 1/1 (110/324) C:\\Study\\CISM\\YOLO\\video.mp4: 384x640 1 dog, Done. (0.025s)\n",
      "video 1/1 (111/324) C:\\Study\\CISM\\YOLO\\video.mp4: 384x640 1 dog, Done. (0.025s)\n",
      "video 1/1 (112/324) C:\\Study\\CISM\\YOLO\\video.mp4: 384x640 1 dog, Done. (0.025s)\n",
      "video 1/1 (113/324) C:\\Study\\CISM\\YOLO\\video.mp4: 384x640 1 dog, Done. (0.026s)\n",
      "video 1/1 (114/324) C:\\Study\\CISM\\YOLO\\video.mp4: 384x640 1 dog, Done. (0.025s)\n",
      "video 1/1 (115/324) C:\\Study\\CISM\\YOLO\\video.mp4: 384x640 Done. (0.025s)\n",
      "video 1/1 (116/324) C:\\Study\\CISM\\YOLO\\video.mp4: 384x640 Done. (0.025s)\n",
      "video 1/1 (117/324) C:\\Study\\CISM\\YOLO\\video.mp4: 384x640 Done. (0.028s)\n",
      "video 1/1 (118/324) C:\\Study\\CISM\\YOLO\\video.mp4: 384x640 Done. (0.023s)\n",
      "video 1/1 (119/324) C:\\Study\\CISM\\YOLO\\video.mp4: 384x640 Done. (0.024s)\n",
      "video 1/1 (120/324) C:\\Study\\CISM\\YOLO\\video.mp4: 384x640 Done. (0.025s)\n",
      "video 1/1 (121/324) C:\\Study\\CISM\\YOLO\\video.mp4: 384x640 Done. (0.025s)\n",
      "video 1/1 (122/324) C:\\Study\\CISM\\YOLO\\video.mp4: 384x640 Done. (0.025s)\n",
      "video 1/1 (123/324) C:\\Study\\CISM\\YOLO\\video.mp4: 384x640 1 dog, Done. (0.024s)\n",
      "video 1/1 (124/324) C:\\Study\\CISM\\YOLO\\video.mp4: 384x640 Done. (0.031s)\n",
      "video 1/1 (125/324) C:\\Study\\CISM\\YOLO\\video.mp4: 384x640 Done. (0.025s)\n",
      "video 1/1 (126/324) C:\\Study\\CISM\\YOLO\\video.mp4: 384x640 Done. (0.024s)\n",
      "video 1/1 (127/324) C:\\Study\\CISM\\YOLO\\video.mp4: 384x640 Done. (0.025s)\n",
      "video 1/1 (128/324) C:\\Study\\CISM\\YOLO\\video.mp4: 384x640 Done. (0.025s)\n",
      "video 1/1 (129/324) C:\\Study\\CISM\\YOLO\\video.mp4: 384x640 Done. (0.025s)\n",
      "video 1/1 (130/324) C:\\Study\\CISM\\YOLO\\video.mp4: 384x640 Done. (0.025s)\n",
      "video 1/1 (131/324) C:\\Study\\CISM\\YOLO\\video.mp4: 384x640 Done. (0.021s)\n",
      "video 1/1 (132/324) C:\\Study\\CISM\\YOLO\\video.mp4: 384x640 Done. (0.025s)\n",
      "video 1/1 (133/324) C:\\Study\\CISM\\YOLO\\video.mp4: 384x640 Done. (0.024s)\n",
      "video 1/1 (134/324) C:\\Study\\CISM\\YOLO\\video.mp4: 384x640 Done. (0.026s)\n",
      "video 1/1 (135/324) C:\\Study\\CISM\\YOLO\\video.mp4: 384x640 Done. (0.024s)\n",
      "video 1/1 (136/324) C:\\Study\\CISM\\YOLO\\video.mp4: 384x640 Done. (0.028s)\n",
      "video 1/1 (137/324) C:\\Study\\CISM\\YOLO\\video.mp4: 384x640 Done. (0.025s)\n",
      "video 1/1 (138/324) C:\\Study\\CISM\\YOLO\\video.mp4: 384x640 Done. (0.025s)\n",
      "video 1/1 (139/324) C:\\Study\\CISM\\YOLO\\video.mp4: 384x640 1 dog, Done. (0.025s)\n",
      "video 1/1 (140/324) C:\\Study\\CISM\\YOLO\\video.mp4: 384x640 1 dog, Done. (0.025s)\n",
      "video 1/1 (141/324) C:\\Study\\CISM\\YOLO\\video.mp4: 384x640 Done. (0.027s)\n",
      "video 1/1 (142/324) C:\\Study\\CISM\\YOLO\\video.mp4: 384x640 Done. (0.026s)\n",
      "video 1/1 (143/324) C:\\Study\\CISM\\YOLO\\video.mp4: 384x640 Done. (0.025s)\n",
      "video 1/1 (144/324) C:\\Study\\CISM\\YOLO\\video.mp4: 384x640 Done. (0.025s)\n",
      "video 1/1 (145/324) C:\\Study\\CISM\\YOLO\\video.mp4: 384x640 Done. (0.025s)\n",
      "video 1/1 (146/324) C:\\Study\\CISM\\YOLO\\video.mp4: 384x640 Done. (0.025s)\n",
      "video 1/1 (147/324) C:\\Study\\CISM\\YOLO\\video.mp4: 384x640 Done. (0.025s)\n",
      "video 1/1 (148/324) C:\\Study\\CISM\\YOLO\\video.mp4: 384x640 Done. (0.022s)\n",
      "video 1/1 (149/324) C:\\Study\\CISM\\YOLO\\video.mp4: 384x640 Done. (0.025s)\n",
      "video 1/1 (150/324) C:\\Study\\CISM\\YOLO\\video.mp4: 384x640 Done. (0.025s)\n",
      "video 1/1 (151/324) C:\\Study\\CISM\\YOLO\\video.mp4: 384x640 1 dog, Done. (0.016s)\n",
      "video 1/1 (152/324) C:\\Study\\CISM\\YOLO\\video.mp4: 384x640 1 dog, Done. (0.025s)\n",
      "video 1/1 (153/324) C:\\Study\\CISM\\YOLO\\video.mp4: 384x640 1 cat, 1 dog, Done. (0.024s)\n",
      "video 1/1 (154/324) C:\\Study\\CISM\\YOLO\\video.mp4: 384x640 Done. (0.025s)\n",
      "video 1/1 (155/324) C:\\Study\\CISM\\YOLO\\video.mp4: 384x640 Done. (0.025s)\n",
      "video 1/1 (156/324) C:\\Study\\CISM\\YOLO\\video.mp4: 384x640 1 dog, Done. (0.025s)\n",
      "video 1/1 (157/324) C:\\Study\\CISM\\YOLO\\video.mp4: 384x640 1 dog, Done. (0.025s)\n",
      "video 1/1 (158/324) C:\\Study\\CISM\\YOLO\\video.mp4: 384x640 Done. (0.026s)\n",
      "video 1/1 (159/324) C:\\Study\\CISM\\YOLO\\video.mp4: 384x640 Done. (0.024s)\n",
      "video 1/1 (160/324) C:\\Study\\CISM\\YOLO\\video.mp4: 384x640 Done. (0.028s)\n",
      "video 1/1 (161/324) C:\\Study\\CISM\\YOLO\\video.mp4: 384x640 Done. (0.025s)\n",
      "video 1/1 (162/324) C:\\Study\\CISM\\YOLO\\video.mp4: 384x640 Done. (0.025s)\n",
      "video 1/1 (163/324) C:\\Study\\CISM\\YOLO\\video.mp4: 384x640 Done. (0.025s)\n",
      "video 1/1 (164/324) C:\\Study\\CISM\\YOLO\\video.mp4: 384x640 Done. (0.025s)\n",
      "video 1/1 (165/324) C:\\Study\\CISM\\YOLO\\video.mp4: 384x640 Done. (0.025s)\n",
      "video 1/1 (166/324) C:\\Study\\CISM\\YOLO\\video.mp4: 384x640 Done. (0.025s)\n",
      "video 1/1 (167/324) C:\\Study\\CISM\\YOLO\\video.mp4: 384x640 Done. (0.025s)\n",
      "video 1/1 (168/324) C:\\Study\\CISM\\YOLO\\video.mp4: 384x640 Done. (0.026s)\n",
      "video 1/1 (169/324) C:\\Study\\CISM\\YOLO\\video.mp4: 384x640 1 dog, Done. (0.024s)\n",
      "video 1/1 (170/324) C:\\Study\\CISM\\YOLO\\video.mp4: 384x640 Done. (0.030s)\n",
      "video 1/1 (171/324) C:\\Study\\CISM\\YOLO\\video.mp4: 384x640 1 dog, Done. (0.025s)\n",
      "video 1/1 (172/324) C:\\Study\\CISM\\YOLO\\video.mp4: 384x640 Done. (0.017s)\n",
      "video 1/1 (173/324) C:\\Study\\CISM\\YOLO\\video.mp4: 384x640 Done. (0.036s)\n",
      "video 1/1 (174/324) C:\\Study\\CISM\\YOLO\\video.mp4: 384x640 Done. (0.025s)\n",
      "video 1/1 (175/324) C:\\Study\\CISM\\YOLO\\video.mp4: 384x640 Done. (0.025s)\n",
      "video 1/1 (176/324) C:\\Study\\CISM\\YOLO\\video.mp4: 384x640 Done. (0.025s)\n",
      "video 1/1 (177/324) C:\\Study\\CISM\\YOLO\\video.mp4: 384x640 Done. (0.022s)\n",
      "video 1/1 (178/324) C:\\Study\\CISM\\YOLO\\video.mp4: 384x640 Done. (0.030s)\n",
      "video 1/1 (179/324) C:\\Study\\CISM\\YOLO\\video.mp4: 384x640 Done. (0.018s)\n",
      "video 1/1 (180/324) C:\\Study\\CISM\\YOLO\\video.mp4: 384x640 Done. (0.038s)\n",
      "video 1/1 (181/324) C:\\Study\\CISM\\YOLO\\video.mp4: 384x640 Done. (0.025s)\n",
      "video 1/1 (182/324) C:\\Study\\CISM\\YOLO\\video.mp4: 384x640 Done. (0.025s)\n",
      "video 1/1 (183/324) C:\\Study\\CISM\\YOLO\\video.mp4: 384x640 Done. (0.025s)\n",
      "video 1/1 (184/324) C:\\Study\\CISM\\YOLO\\video.mp4: 384x640 Done. (0.025s)\n",
      "video 1/1 (185/324) C:\\Study\\CISM\\YOLO\\video.mp4: 384x640 1 dog, Done. (0.025s)\n",
      "video 1/1 (186/324) C:\\Study\\CISM\\YOLO\\video.mp4: 384x640 1 dog, Done. (0.025s)\n",
      "video 1/1 (187/324) C:\\Study\\CISM\\YOLO\\video.mp4: 384x640 Done. (0.024s)\n",
      "video 1/1 (188/324) C:\\Study\\CISM\\YOLO\\video.mp4: 384x640 1 dog, Done. (0.025s)\n",
      "video 1/1 (189/324) C:\\Study\\CISM\\YOLO\\video.mp4: 384x640 Done. (0.026s)\n",
      "video 1/1 (190/324) C:\\Study\\CISM\\YOLO\\video.mp4: 384x640 Done. (0.026s)\n",
      "video 1/1 (191/324) C:\\Study\\CISM\\YOLO\\video.mp4: 384x640 1 dog, Done. (0.026s)\n",
      "video 1/1 (192/324) C:\\Study\\CISM\\YOLO\\video.mp4: 384x640 Done. (0.025s)\n",
      "video 1/1 (193/324) C:\\Study\\CISM\\YOLO\\video.mp4: 384x640 Done. (0.021s)\n",
      "video 1/1 (194/324) C:\\Study\\CISM\\YOLO\\video.mp4: 384x640 Done. (0.032s)\n",
      "video 1/1 (195/324) C:\\Study\\CISM\\YOLO\\video.mp4: 384x640 Done. (0.025s)\n",
      "video 1/1 (196/324) C:\\Study\\CISM\\YOLO\\video.mp4: 384x640 1 dog, Done. (0.025s)\n",
      "video 1/1 (197/324) C:\\Study\\CISM\\YOLO\\video.mp4: 384x640 1 dog, Done. (0.025s)\n",
      "video 1/1 (198/324) C:\\Study\\CISM\\YOLO\\video.mp4: 384x640 1 dog, Done. (0.026s)\n",
      "video 1/1 (199/324) C:\\Study\\CISM\\YOLO\\video.mp4: 384x640 1 dog, Done. (0.025s)\n",
      "video 1/1 (200/324) C:\\Study\\CISM\\YOLO\\video.mp4: 384x640 1 dog, Done. (0.016s)\n",
      "video 1/1 (201/324) C:\\Study\\CISM\\YOLO\\video.mp4: 384x640 Done. (0.025s)\n",
      "video 1/1 (202/324) C:\\Study\\CISM\\YOLO\\video.mp4: 384x640 1 dog, Done. (0.025s)\n",
      "video 1/1 (203/324) C:\\Study\\CISM\\YOLO\\video.mp4: 384x640 1 dog, Done. (0.026s)\n",
      "video 1/1 (204/324) C:\\Study\\CISM\\YOLO\\video.mp4: 384x640 1 dog, Done. (0.020s)\n",
      "video 1/1 (205/324) C:\\Study\\CISM\\YOLO\\video.mp4: 384x640 1 dog, Done. (0.025s)\n",
      "video 1/1 (206/324) C:\\Study\\CISM\\YOLO\\video.mp4: 384x640 1 dog, Done. (0.026s)\n",
      "video 1/1 (207/324) C:\\Study\\CISM\\YOLO\\video.mp4: 384x640 1 dog, Done. (0.026s)\n",
      "video 1/1 (208/324) C:\\Study\\CISM\\YOLO\\video.mp4: 384x640 1 dog, Done. (0.020s)\n",
      "video 1/1 (209/324) C:\\Study\\CISM\\YOLO\\video.mp4: 384x640 1 dog, Done. (0.026s)\n",
      "video 1/1 (210/324) C:\\Study\\CISM\\YOLO\\video.mp4: 384x640 1 dog, Done. (0.030s)\n",
      "video 1/1 (211/324) C:\\Study\\CISM\\YOLO\\video.mp4: 384x640 1 dog, Done. (0.025s)\n",
      "video 1/1 (212/324) C:\\Study\\CISM\\YOLO\\video.mp4: 384x640 1 dog, Done. (0.026s)\n",
      "video 1/1 (213/324) C:\\Study\\CISM\\YOLO\\video.mp4: 384x640 1 dog, Done. (0.025s)\n",
      "video 1/1 (214/324) C:\\Study\\CISM\\YOLO\\video.mp4: 384x640 1 dog, Done. (0.031s)\n",
      "video 1/1 (215/324) C:\\Study\\CISM\\YOLO\\video.mp4: 384x640 Done. (0.024s)\n",
      "video 1/1 (216/324) C:\\Study\\CISM\\YOLO\\video.mp4: 384x640 Done. (0.025s)\n",
      "video 1/1 (217/324) C:\\Study\\CISM\\YOLO\\video.mp4: 384x640 Done. (0.024s)\n",
      "video 1/1 (218/324) C:\\Study\\CISM\\YOLO\\video.mp4: 384x640 1 dog, Done. (0.029s)\n",
      "video 1/1 (219/324) C:\\Study\\CISM\\YOLO\\video.mp4: 384x640 Done. (0.029s)\n",
      "video 1/1 (220/324) C:\\Study\\CISM\\YOLO\\video.mp4: 384x640 Done. (0.021s)\n",
      "video 1/1 (221/324) C:\\Study\\CISM\\YOLO\\video.mp4: 384x640 Done. (0.032s)\n",
      "video 1/1 (222/324) C:\\Study\\CISM\\YOLO\\video.mp4: 384x640 Done. (0.025s)\n",
      "video 1/1 (223/324) C:\\Study\\CISM\\YOLO\\video.mp4: 384x640 1 dog, Done. (0.025s)\n",
      "video 1/1 (224/324) C:\\Study\\CISM\\YOLO\\video.mp4: 384x640 Done. (0.025s)\n",
      "video 1/1 (225/324) C:\\Study\\CISM\\YOLO\\video.mp4: 384x640 Done. (0.024s)\n",
      "video 1/1 (226/324) C:\\Study\\CISM\\YOLO\\video.mp4: 384x640 Done. (0.030s)\n",
      "video 1/1 (227/324) C:\\Study\\CISM\\YOLO\\video.mp4: 384x640 Done. (0.021s)\n",
      "video 1/1 (228/324) C:\\Study\\CISM\\YOLO\\video.mp4: 384x640 Done. (0.032s)\n",
      "video 1/1 (229/324) C:\\Study\\CISM\\YOLO\\video.mp4: 384x640 Done. (0.025s)\n",
      "video 1/1 (230/324) C:\\Study\\CISM\\YOLO\\video.mp4: 384x640 Done. (0.025s)\n",
      "video 1/1 (231/324) C:\\Study\\CISM\\YOLO\\video.mp4: 384x640 Done. (0.025s)\n",
      "video 1/1 (232/324) C:\\Study\\CISM\\YOLO\\video.mp4: 384x640 Done. (0.025s)\n",
      "video 1/1 (233/324) C:\\Study\\CISM\\YOLO\\video.mp4: 384x640 Done. (0.028s)\n",
      "video 1/1 (234/324) C:\\Study\\CISM\\YOLO\\video.mp4: 384x640 Done. (0.026s)\n",
      "video 1/1 (235/324) C:\\Study\\CISM\\YOLO\\video.mp4: 384x640 Done. (0.021s)\n",
      "video 1/1 (236/324) C:\\Study\\CISM\\YOLO\\video.mp4: 384x640 Done. (0.016s)\n",
      "video 1/1 (237/324) C:\\Study\\CISM\\YOLO\\video.mp4: 384x640 1 dog, Done. (0.036s)\n",
      "video 1/1 (238/324) C:\\Study\\CISM\\YOLO\\video.mp4: 384x640 1 dog, Done. (0.025s)\n",
      "video 1/1 (239/324) C:\\Study\\CISM\\YOLO\\video.mp4: 384x640 1 dog, Done. (0.025s)\n",
      "video 1/1 (240/324) C:\\Study\\CISM\\YOLO\\video.mp4: 384x640 1 dog, Done. (0.030s)\n",
      "video 1/1 (241/324) C:\\Study\\CISM\\YOLO\\video.mp4: 384x640 1 dog, Done. (0.026s)\n",
      "video 1/1 (242/324) C:\\Study\\CISM\\YOLO\\video.mp4: 384x640 1 dog, Done. (0.025s)\n",
      "video 1/1 (243/324) C:\\Study\\CISM\\YOLO\\video.mp4: 384x640 1 dog, Done. (0.025s)\n",
      "video 1/1 (244/324) C:\\Study\\CISM\\YOLO\\video.mp4: 384x640 1 dog, Done. (0.025s)\n",
      "video 1/1 (245/324) C:\\Study\\CISM\\YOLO\\video.mp4: 384x640 1 dog, Done. (0.025s)\n",
      "video 1/1 (246/324) C:\\Study\\CISM\\YOLO\\video.mp4: 384x640 1 dog, Done. (0.024s)\n",
      "video 1/1 (247/324) C:\\Study\\CISM\\YOLO\\video.mp4: 384x640 1 dog, Done. (0.025s)\n",
      "video 1/1 (248/324) C:\\Study\\CISM\\YOLO\\video.mp4: 384x640 Done. (0.025s)\n",
      "video 1/1 (249/324) C:\\Study\\CISM\\YOLO\\video.mp4: 384x640 1 dog, Done. (0.025s)\n",
      "video 1/1 (250/324) C:\\Study\\CISM\\YOLO\\video.mp4: 384x640 1 dog, Done. (0.026s)\n",
      "video 1/1 (251/324) C:\\Study\\CISM\\YOLO\\video.mp4: 384x640 1 dog, Done. (0.030s)\n",
      "video 1/1 (252/324) C:\\Study\\CISM\\YOLO\\video.mp4: 384x640 1 dog, Done. (0.026s)\n",
      "video 1/1 (253/324) C:\\Study\\CISM\\YOLO\\video.mp4: 384x640 Done. (0.025s)\n",
      "video 1/1 (254/324) C:\\Study\\CISM\\YOLO\\video.mp4: 384x640 Done. (0.026s)\n",
      "video 1/1 (255/324) C:\\Study\\CISM\\YOLO\\video.mp4: 384x640 Done. (0.026s)\n",
      "video 1/1 (256/324) C:\\Study\\CISM\\YOLO\\video.mp4: 384x640 Done. (0.026s)\n",
      "video 1/1 (257/324) C:\\Study\\CISM\\YOLO\\video.mp4: 384x640 Done. (0.026s)\n",
      "video 1/1 (258/324) C:\\Study\\CISM\\YOLO\\video.mp4: 384x640 Done. (0.025s)\n",
      "video 1/1 (259/324) C:\\Study\\CISM\\YOLO\\video.mp4: 384x640 Done. (0.026s)\n",
      "video 1/1 (260/324) C:\\Study\\CISM\\YOLO\\video.mp4: 384x640 Done. (0.026s)\n",
      "video 1/1 (261/324) C:\\Study\\CISM\\YOLO\\video.mp4: 384x640 Done. (0.025s)\n",
      "video 1/1 (262/324) C:\\Study\\CISM\\YOLO\\video.mp4: 384x640 Done. (0.026s)\n",
      "video 1/1 (263/324) C:\\Study\\CISM\\YOLO\\video.mp4: 384x640 Done. (0.025s)\n",
      "video 1/1 (264/324) C:\\Study\\CISM\\YOLO\\video.mp4: 384x640 Done. (0.025s)\n",
      "video 1/1 (265/324) C:\\Study\\CISM\\YOLO\\video.mp4: 384x640 Done. (0.025s)\n",
      "video 1/1 (266/324) C:\\Study\\CISM\\YOLO\\video.mp4: 384x640 Done. (0.026s)\n",
      "video 1/1 (267/324) C:\\Study\\CISM\\YOLO\\video.mp4: 384x640 Done. (0.026s)\n",
      "video 1/1 (268/324) C:\\Study\\CISM\\YOLO\\video.mp4: 384x640 Done. (0.025s)\n",
      "video 1/1 (269/324) C:\\Study\\CISM\\YOLO\\video.mp4: 384x640 Done. (0.025s)\n",
      "video 1/1 (270/324) C:\\Study\\CISM\\YOLO\\video.mp4: 384x640 Done. (0.026s)\n",
      "video 1/1 (271/324) C:\\Study\\CISM\\YOLO\\video.mp4: 384x640 1 dog, Done. (0.025s)\n",
      "video 1/1 (272/324) C:\\Study\\CISM\\YOLO\\video.mp4: 384x640 1 dog, Done. (0.025s)\n",
      "video 1/1 (273/324) C:\\Study\\CISM\\YOLO\\video.mp4: 384x640 Done. (0.025s)\n",
      "video 1/1 (274/324) C:\\Study\\CISM\\YOLO\\video.mp4: 384x640 Done. (0.025s)\n",
      "video 1/1 (275/324) C:\\Study\\CISM\\YOLO\\video.mp4: 384x640 1 dog, Done. (0.026s)\n",
      "video 1/1 (276/324) C:\\Study\\CISM\\YOLO\\video.mp4: 384x640 1 dog, Done. (0.026s)\n",
      "video 1/1 (277/324) C:\\Study\\CISM\\YOLO\\video.mp4: 384x640 1 dog, Done. (0.026s)\n",
      "video 1/1 (278/324) C:\\Study\\CISM\\YOLO\\video.mp4: 384x640 1 dog, Done. (0.025s)\n",
      "video 1/1 (279/324) C:\\Study\\CISM\\YOLO\\video.mp4: 384x640 1 dog, Done. (0.025s)\n",
      "video 1/1 (280/324) C:\\Study\\CISM\\YOLO\\video.mp4: 384x640 1 dog, Done. (0.026s)\n",
      "video 1/1 (281/324) C:\\Study\\CISM\\YOLO\\video.mp4: 384x640 1 dog, Done. (0.025s)\n",
      "video 1/1 (282/324) C:\\Study\\CISM\\YOLO\\video.mp4: 384x640 Done. (0.025s)\n",
      "video 1/1 (283/324) C:\\Study\\CISM\\YOLO\\video.mp4: 384x640 Done. (0.025s)\n",
      "video 1/1 (284/324) C:\\Study\\CISM\\YOLO\\video.mp4: 384x640 Done. (0.025s)\n",
      "video 1/1 (285/324) C:\\Study\\CISM\\YOLO\\video.mp4: 384x640 1 dog, Done. (0.026s)\n",
      "video 1/1 (286/324) C:\\Study\\CISM\\YOLO\\video.mp4: 384x640 Done. (0.026s)\n",
      "video 1/1 (287/324) C:\\Study\\CISM\\YOLO\\video.mp4: 384x640 1 dog, Done. (0.027s)\n",
      "video 1/1 (288/324) C:\\Study\\CISM\\YOLO\\video.mp4: 384x640 1 dog, Done. (0.026s)\n",
      "video 1/1 (289/324) C:\\Study\\CISM\\YOLO\\video.mp4: 384x640 Done. (0.026s)\n",
      "video 1/1 (290/324) C:\\Study\\CISM\\YOLO\\video.mp4: 384x640 1 dog, Done. (0.026s)\n",
      "video 1/1 (291/324) C:\\Study\\CISM\\YOLO\\video.mp4: 384x640 1 dog, Done. (0.026s)\n",
      "video 1/1 (292/324) C:\\Study\\CISM\\YOLO\\video.mp4: 384x640 1 dog, Done. (0.026s)\n",
      "video 1/1 (293/324) C:\\Study\\CISM\\YOLO\\video.mp4: 384x640 Done. (0.026s)\n",
      "video 1/1 (294/324) C:\\Study\\CISM\\YOLO\\video.mp4: 384x640 Done. (0.025s)\n",
      "video 1/1 (295/324) C:\\Study\\CISM\\YOLO\\video.mp4: 384x640 1 dog, Done. (0.026s)\n",
      "video 1/1 (296/324) C:\\Study\\CISM\\YOLO\\video.mp4: 384x640 1 dog, Done. (0.025s)\n",
      "video 1/1 (297/324) C:\\Study\\CISM\\YOLO\\video.mp4: 384x640 1 dog, Done. (0.026s)\n",
      "video 1/1 (298/324) C:\\Study\\CISM\\YOLO\\video.mp4: 384x640 Done. (0.025s)\n",
      "video 1/1 (299/324) C:\\Study\\CISM\\YOLO\\video.mp4: 384x640 1 dog, Done. (0.026s)\n",
      "video 1/1 (300/324) C:\\Study\\CISM\\YOLO\\video.mp4: 384x640 Done. (0.026s)\n",
      "video 1/1 (301/324) C:\\Study\\CISM\\YOLO\\video.mp4: 384x640 Done. (0.025s)\n",
      "video 1/1 (302/324) C:\\Study\\CISM\\YOLO\\video.mp4: 384x640 1 cat, Done. (0.024s)\n",
      "video 1/1 (303/324) C:\\Study\\CISM\\YOLO\\video.mp4: 384x640 1 cat, Done. (0.032s)\n",
      "video 1/1 (304/324) C:\\Study\\CISM\\YOLO\\video.mp4: 384x640 1 cat, Done. (0.025s)\n",
      "video 1/1 (305/324) C:\\Study\\CISM\\YOLO\\video.mp4: 384x640 Done. (0.025s)\n",
      "video 1/1 (306/324) C:\\Study\\CISM\\YOLO\\video.mp4: 384x640 1 cat, Done. (0.025s)\n",
      "video 1/1 (307/324) C:\\Study\\CISM\\YOLO\\video.mp4: 384x640 1 cat, Done. (0.025s)\n",
      "video 1/1 (308/324) C:\\Study\\CISM\\YOLO\\video.mp4: 384x640 1 cat, Done. (0.026s)\n",
      "video 1/1 (309/324) C:\\Study\\CISM\\YOLO\\video.mp4: 384x640 Done. (0.025s)\n",
      "video 1/1 (310/324) C:\\Study\\CISM\\YOLO\\video.mp4: 384x640 Done. (0.026s)\n",
      "video 1/1 (311/324) C:\\Study\\CISM\\YOLO\\video.mp4: 384x640 Done. (0.025s)\n",
      "video 1/1 (312/324) C:\\Study\\CISM\\YOLO\\video.mp4: 384x640 Done. (0.026s)\n",
      "video 1/1 (313/324) C:\\Study\\CISM\\YOLO\\video.mp4: 384x640 Done. (0.026s)\n",
      "video 1/1 (314/324) C:\\Study\\CISM\\YOLO\\video.mp4: 384x640 Done. (0.025s)\n",
      "video 1/1 (315/324) C:\\Study\\CISM\\YOLO\\video.mp4: 384x640 Done. (0.026s)\n",
      "video 1/1 (316/324) C:\\Study\\CISM\\YOLO\\video.mp4: 384x640 Done. (0.025s)\n",
      "video 1/1 (317/324) C:\\Study\\CISM\\YOLO\\video.mp4: 384x640 Done. (0.025s)\n",
      "video 1/1 (318/324) C:\\Study\\CISM\\YOLO\\video.mp4: 384x640 Done. (0.025s)\n",
      "video 1/1 (319/324) C:\\Study\\CISM\\YOLO\\video.mp4: 384x640 Done. (0.026s)\n",
      "video 1/1 (320/324) C:\\Study\\CISM\\YOLO\\video.mp4: 384x640 Done. (0.026s)\n",
      "video 1/1 (321/324) C:\\Study\\CISM\\YOLO\\video.mp4: 384x640 1 dog, Done. (0.025s)\n",
      "video 1/1 (322/324) C:\\Study\\CISM\\YOLO\\video.mp4: 384x640 1 dog, Done. (0.025s)\n",
      "video 1/1 (323/324) C:\\Study\\CISM\\YOLO\\video.mp4: 384x640 1 dog, Done. (0.026s)\n",
      "video 1/1 (324/324) C:\\Study\\CISM\\YOLO\\video.mp4: 384x640 1 dog, Done. (0.025s)\n",
      "Speed: 0.4ms pre-process, 25.5ms inference, 0.6ms NMS per image at shape (1, 3, 640, 640)\n",
      "Results saved to \u001b[1mruns\\detect\\exp11\u001b[0m\n"
     ]
    }
   ],
   "source": [
    "!python detect.py --weights best.pt --img 640 --conf 0.25 --source ../video.mp4"
   ]
  },
  {
   "cell_type": "code",
   "execution_count": 3,
   "metadata": {},
   "outputs": [
    {
     "name": "stderr",
     "output_type": "stream",
     "text": [
      "\u001b[34m\u001b[1mdetect: \u001b[0mweights=['best.pt'], source=../tiger.jpg, data=data\\coco128.yaml, imgsz=[640, 640], conf_thres=0.25, iou_thres=0.45, max_det=1000, device=, view_img=False, save_txt=False, save_conf=False, save_crop=False, nosave=False, classes=None, agnostic_nms=False, augment=False, visualize=False, update=False, project=runs\\detect, name=exp, exist_ok=False, line_thickness=3, hide_labels=False, hide_conf=False, half=False, dnn=False\n",
      "YOLOv5  v6.1-223-g1dcb774 Python-3.9.12 torch-1.11.0 CUDA:0 (NVIDIA GeForce RTX 3060 Laptop GPU, 6144MiB)\n",
      "\n",
      "Fusing layers... \n",
      "Model summary: 444 layers, 86180143 parameters, 0 gradients, 204.0 GFLOPs\n",
      "image 1/1 C:\\Study\\CISM\\YOLO\\tiger.jpg: 640x640 1 dog, Done. (0.050s)\n",
      "Speed: 1.0ms pre-process, 50.0ms inference, 4.0ms NMS per image at shape (1, 3, 640, 640)\n",
      "Results saved to \u001b[1mruns\\detect\\exp12\u001b[0m\n"
     ]
    }
   ],
   "source": [
    "!python detect.py --weights best.pt --img 640 --conf 0.25 --source ../tiger.jpg"
   ]
  },
  {
   "cell_type": "code",
   "execution_count": 3,
   "metadata": {},
   "outputs": [
    {
     "name": "stderr",
     "output_type": "stream",
     "text": [
      "\u001b[34m\u001b[1mdetect: \u001b[0mweights=['best.pt'], source=../cought-cat.jpg, data=data\\coco128.yaml, imgsz=[640, 640], conf_thres=0.25, iou_thres=0.45, max_det=1000, device=, view_img=False, save_txt=False, save_conf=False, save_crop=False, nosave=False, classes=None, agnostic_nms=False, augment=False, visualize=False, update=False, project=runs\\detect, name=exp, exist_ok=False, line_thickness=3, hide_labels=False, hide_conf=False, half=False, dnn=False\n",
      "YOLOv5  v6.1-223-g1dcb774 Python-3.9.12 torch-1.11.0 CUDA:0 (NVIDIA GeForce RTX 3060 Laptop GPU, 6144MiB)\n",
      "\n",
      "Fusing layers... \n",
      "Model summary: 444 layers, 86180143 parameters, 0 gradients, 204.0 GFLOPs\n",
      "image 1/1 C:\\Study\\CISM\\YOLO\\cought-cat.jpg: 352x640 1 cat, Done. (0.042s)\n",
      "Speed: 0.0ms pre-process, 42.3ms inference, 24.0ms NMS per image at shape (1, 3, 640, 640)\n",
      "Results saved to \u001b[1mruns\\detect\\exp13\u001b[0m\n"
     ]
    }
   ],
   "source": [
    "!python detect.py --weights best.pt --img 640 --conf 0.25 --source ../cought-cat.jpg"
   ]
  },
  {
   "cell_type": "code",
   "execution_count": 1,
   "metadata": {},
   "outputs": [],
   "source": [
    "import requests\n",
    "import time\n",
    "import os\n",
    "def handle_link(message):\n",
    "    try:\n",
    "        message = input()\n",
    "        PATH = 'Test'\n",
    "        image = requests.get(message)\n",
    "        downloaded_name = f'{time.time()}.jpg'\n",
    "        with open(os.path.join(PATH, downloaded_name), \"wb\") as t:\n",
    "            t.write(image.content)\n",
    "\n",
    "        os.system(\n",
    "            f'python detect.py --weights best.pt --img 640 --conf 0.25 --source {os.path.join(PATH,downloaded_name)}')\n",
    "        os.system(f\"copy runs\\\\detect\\\\exp\\\\{downloaded_name} DETECTED\\\\{downloaded_name}\")\n",
    "        os.remove(f'runs\\\\detect\\\\exp\\\\{downloaded_name}')\n",
    "        os.rmdir('runs\\\\detect\\\\exp')\n",
    "        #bot.send_photo(message.chat.id, photo=open(f'DETECTED/{downloaded_name}', 'rb'))\n",
    "    except Exception as e:\n",
    "        print(e)\n",
    "        #bot.reply_to(message, 'i need a link')\n",
    "handle_link('')"
   ]
  },
  {
   "cell_type": "code",
   "execution_count": null,
   "metadata": {},
   "outputs": [],
   "source": []
  }
 ],
 "metadata": {
  "interpreter": {
   "hash": "6f5583cf1d9466b5c27e75c89cc6b383bed5736d6b16c51c8074d8690011a952"
  },
  "kernelspec": {
   "display_name": "Python 3.9.12 ('base')",
   "language": "python",
   "name": "python3"
  },
  "language_info": {
   "codemirror_mode": {
    "name": "ipython",
    "version": 3
   },
   "file_extension": ".py",
   "mimetype": "text/x-python",
   "name": "python",
   "nbconvert_exporter": "python",
   "pygments_lexer": "ipython3",
   "version": "3.9.12"
  },
  "orig_nbformat": 4
 },
 "nbformat": 4,
 "nbformat_minor": 2
}
